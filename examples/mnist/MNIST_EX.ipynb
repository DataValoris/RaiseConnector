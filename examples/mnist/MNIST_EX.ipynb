{
 "cells": [
  {
   "cell_type": "markdown",
   "metadata": {},
   "source": [
    "# Example of rAIse utilisation (MNIST data)"
   ]
  },
  {
   "cell_type": "code",
   "execution_count": null,
   "metadata": {
    "ExecuteTime": {
     "end_time": "2020-07-21T07:02:29.611396Z",
     "start_time": "2020-07-21T07:02:15.941393Z"
    }
   },
   "outputs": [],
   "source": [
    "import json\n",
    "import os\n",
    "import sys\n",
    "from configparser import ConfigParser\n",
    "\n",
    "import numpy as np\n",
    "from keras import backend as K\n",
    "from keras.utils import to_categorical\n",
    "\n",
    "sys.path.append(\"/\".join(sys.path[0].split('/')[:-1]))"
   ]
  },
  {
   "cell_type": "markdown",
   "metadata": {},
   "source": [
    "## Install dependensies"
   ]
  },
  {
   "cell_type": "code",
   "execution_count": null,
   "metadata": {
    "pycharm": {
     "name": "#%%\n"
    }
   },
   "outputs": [],
   "source": [
    "!pip install -U -r requirements.mnist.txt"
   ]
  },
  {
   "cell_type": "markdown",
   "metadata": {},
   "source": [
    "## Preprocess data"
   ]
  },
  {
   "cell_type": "code",
   "execution_count": null,
   "metadata": {
    "ExecuteTime": {
     "end_time": "2020-07-21T07:02:40.419440Z",
     "start_time": "2020-07-21T07:02:39.983051Z"
    }
   },
   "outputs": [],
   "source": [
    "from keras.datasets.mnist import load_data\n",
    "\n",
    "\n",
    "# Load data\n",
    "(mnist_x_train, mnist_y_train), (mnist_x_test, mnist_y_test) = load_data()\n",
    "\n",
    "num_classes = 10\n",
    "\n",
    "# Input image dimensions\n",
    "img_rows, img_cols = 28, 28"
   ]
  },
  {
   "cell_type": "code",
   "execution_count": null,
   "metadata": {
    "ExecuteTime": {
     "end_time": "2020-07-21T07:02:42.801625Z",
     "start_time": "2020-07-21T07:02:42.727397Z"
    }
   },
   "outputs": [],
   "source": [
    "# The data, split between train and test sets\n",
    "x_train, y_train = mnist_x_train[:10000], mnist_y_train[:10000]\n",
    "x_test, y_test = mnist_x_test[:1500], mnist_y_test[:1500]\n",
    "\n",
    "if K.image_data_format() == \"channels_first\":\n",
    "    x_train = x_train.reshape(x_train.shape[0], 1, img_rows, img_cols)\n",
    "    x_test = x_test.reshape(x_test.shape[0], 1, img_rows, img_cols)\n",
    "    input_shape = (1, img_rows, img_cols)\n",
    "else:\n",
    "    x_train = x_train.reshape(x_train.shape[0], img_rows, img_cols, 1)\n",
    "    x_test = x_test.reshape(x_test.shape[0], img_rows, img_cols, 1)\n",
    "    input_shape = (img_rows, img_cols, 1)\n",
    "\n",
    "x_train = x_train.astype(\"float32\")\n",
    "x_test = x_test.astype(\"float32\")\n",
    "x_train /= 255\n",
    "x_test /= 255\n",
    "\n",
    "# Convert class vectors to binary class matrices\n",
    "y_train = to_categorical(y_train, num_classes)\n",
    "y_test = to_categorical(y_test, num_classes)"
   ]
  },
  {
   "cell_type": "markdown",
   "metadata": {},
   "source": [
    "## Create initial model (optional)"
   ]
  },
  {
   "cell_type": "code",
   "execution_count": null,
   "metadata": {
    "ExecuteTime": {
     "end_time": "2020-07-21T07:03:14.165576Z",
     "start_time": "2020-07-21T07:02:47.161628Z"
    }
   },
   "outputs": [],
   "source": [
    "import random\n",
    "\n",
    "from keras.layers import Conv2D, Dense, Flatten, Input, MaxPooling2D\n",
    "from keras.models import Model\n",
    "\n",
    "\n",
    "batch_size = 100\n",
    "epochs = 5\n",
    "\n",
    "input_layer = Input(shape=input_shape)\n",
    "x = Conv2D(filters=random.choice(range(8, 129, 8)),\n",
    "           kernel_size=random.choice(range(3, 11)),\n",
    "           activation=\"relu\",\n",
    "           kernel_initializer=\"he_normal\")(input_layer)\n",
    "x = MaxPooling2D(pool_size=random.choice(range(2, 5)))(x)\n",
    "x = Flatten()(x)\n",
    "output_layer = Dense(num_classes,\n",
    "                     kernel_initializer=\"he_normal\",\n",
    "                     activation='softmax')(x)\n",
    "model = Model(inputs=input_layer, outputs=output_layer)\n",
    "\n",
    "model.compile(loss=\"categorical_crossentropy\",\n",
    "              optimizer=\"Adam\",\n",
    "              metrics=[\"accuracy\"])\n",
    "model.fit(x_train,\n",
    "          y_train,\n",
    "          batch_size=batch_size,\n",
    "          epochs=epochs,\n",
    "          verbose=1,\n",
    "          validation_data=(x_test, y_test))"
   ]
  },
  {
   "cell_type": "code",
   "execution_count": null,
   "metadata": {
    "ExecuteTime": {
     "end_time": "2020-07-21T07:03:16.795571Z",
     "start_time": "2020-07-21T07:03:16.691548Z"
    }
   },
   "outputs": [],
   "source": [
    "# Save model\n",
    "path_dir = \"../InitialModel\"\n",
    "if not os.path.exists(path_dir):\n",
    "    os.makedirs(path_dir)\n",
    "\n",
    "model.save_weights(os.path.join(path_dir, \"model_weights.h5\"), overwrite=True)\n",
    "with open(os.path.join(path_dir, \"model.config\"), \"w\") as f:\n",
    "    json.dump(model.to_json(), f)"
   ]
  },
  {
   "cell_type": "markdown",
   "metadata": {},
   "source": [
    "## rAIse integration"
   ]
  },
  {
   "cell_type": "markdown",
   "metadata": {},
   "source": [
    "### Trainer object"
   ]
  },
  {
   "cell_type": "code",
   "execution_count": null,
   "metadata": {
    "ExecuteTime": {
     "end_time": "2020-07-21T07:03:25.563205Z",
     "start_time": "2020-07-21T07:03:25.354735Z"
    }
   },
   "outputs": [],
   "source": [
    "from keras.callbacks import EarlyStopping, ReduceLROnPlateau\n",
    "\n",
    "from examples.itrainer import ITrainer\n",
    "\n",
    "\n",
    "os.environ[\"TF_CPP_MIN_LOG_LEVEL\"] = \"3\"\n",
    "\n",
    "\n",
    "class Trainer(ITrainer):\n",
    "    def load_data(self):\n",
    "      pass\n",
    "\n",
    "    @classmethod\n",
    "    def save_model(cls, model, path_dir=\"../InitialModel\"):\n",
    "        super().save_model(model, path_dir)\n",
    "\n",
    "    def create_model(self):\n",
    "        pass\n",
    "\n",
    "    def train_func(self, model):\n",
    "        batch_size = 100\n",
    "        epochs = 5\n",
    "\n",
    "        model.compile(loss=\"categorical_crossentropy\",\n",
    "                      optimizer=\"Adam\",\n",
    "                      metrics=[\"accuracy\"])\n",
    "\n",
    "        early_stop = EarlyStopping(monitor=\"val_loss\",\n",
    "                                   min_delta=0,\n",
    "                                   patience=1,\n",
    "                                   verbose=0,\n",
    "                                   mode=\"auto\")\n",
    "        reduce_lr = ReduceLROnPlateau(monitor=\"val_loss\",\n",
    "                                      factor=0.2,\n",
    "                                      patience=1,\n",
    "                                      min_lr=0.001)\n",
    "        results = model.fit(x_train,\n",
    "                            y_train,\n",
    "                            batch_size=batch_size,\n",
    "                            epochs=epochs,\n",
    "                            validation_data=(x_test, y_test),\n",
    "                            callbacks=[early_stop, reduce_lr])\n",
    "\n",
    "        train_accuracy = results.history[\"accuracy\"][-1]\n",
    "        validation_accuracy = results.history[\"val_accuracy\"][-1]\n",
    "        return train_accuracy, validation_accuracy\n",
    "\n",
    "    def evaluate_func(self, model):\n",
    "        batch_size = 200\n",
    "\n",
    "        model.compile(loss=\"categorical_crossentropy\",\n",
    "                      optimizer=\"Adam\",\n",
    "                      metrics=[\"accuracy\"])\n",
    "        results = model.evaluate(x_test, y_test, batch_size=batch_size)\n",
    "        test_accuracy = results[-1]\n",
    "        return test_accuracy"
   ]
  },
  {
   "cell_type": "markdown",
   "metadata": {},
   "source": [
    "### Model optimization"
   ]
  },
  {
   "cell_type": "code",
   "execution_count": null,
   "metadata": {
    "ExecuteTime": {
     "end_time": "2020-07-21T07:07:06.434218Z",
     "start_time": "2020-07-21T07:03:30.486969Z"
    },
    "scrolled": true
   },
   "outputs": [],
   "source": [
    "import run_population as rp\n",
    "\n",
    "config_file = \"../project.cfg\"\n",
    "project_config = ConfigParser()\n",
    "project_config.read(config_file)\n",
    "trainer_class = Trainer\n",
    "\n",
    "cwd = os.getcwd()\n",
    "os.chdir(\"/\".join(sys.path[0].split('/')[:-1]))\n",
    "\n",
    "try:\n",
    "    rp.run_population(project_config=project_config,\n",
    "                      trainer_class=trainer_class)\n",
    "except SystemExit:\n",
    "    pass\n",
    "finally:\n",
    "    os.chdir(cwd)"
   ]
  },
  {
   "cell_type": "markdown",
   "metadata": {},
   "source": [
    "### Get champion and use it"
   ]
  },
  {
   "cell_type": "code",
   "execution_count": null,
   "metadata": {
    "ExecuteTime": {
     "end_time": "2020-07-21T07:08:59.759246Z",
     "start_time": "2020-07-21T07:08:58.876127Z"
    }
   },
   "outputs": [],
   "source": [
    "from keras.models import model_from_json\n",
    "\n",
    "from clients.api import RequestToApi\n",
    "\n",
    "\n",
    "config_file = \"../project.cfg\"\n",
    "project_config = ConfigParser()\n",
    "project_config.read(config_file)\n",
    "url = project_config.get(\"DEFAULT\", \"url\")\n",
    "project_id = project_config.get(\"DEFAULT\", \"project_id\")\n",
    "token = project_config.get(\"DEFAULT\", \"token\")\n",
    "agents_dir = project_config.get(\"DEFAULT\", \"agents_path\")\n",
    "\n",
    "# Get champion ID\n",
    "api = RequestToApi(url, token)\n",
    "project = api.get_project(project_id=project_id)\n",
    "mutant_id = project[\"scoreChampionId\"] if project[\"scoreChampionId\"] else project[\"initialMutantId\"]\n",
    "champion_id = api.get_mutant(mutant_id=mutant_id)[\"agentId\"]\n",
    "\n",
    "# Get champion config & weights files\n",
    "champion_path = os.path.join(\"..\", agents_dir, project_id, champion_id)\n",
    "champion_weights = f\"{champion_path}_weights.h5\"\n",
    "champion_cfg = f\"{champion_path}.config\"\n",
    "\n",
    "with open(champion_cfg, \"r\") as f:\n",
    "    champion_config = json.load(f)\n",
    "\n",
    "# Load network\n",
    "model = model_from_json(champion_config)\n",
    "model.load_weights(champion_weights)"
   ]
  },
  {
   "cell_type": "code",
   "execution_count": null,
   "metadata": {
    "ExecuteTime": {
     "end_time": "2020-07-21T07:09:05.298705Z",
     "start_time": "2020-07-21T07:09:03.276252Z"
    }
   },
   "outputs": [],
   "source": [
    "# New data\n",
    "x_sample, y_sample = mnist_x_test[1500:2500], mnist_y_test[1500:2500]\n",
    "\n",
    "if K.image_data_format() == \"channels_first\":\n",
    "    x_sample = x_sample.reshape(x_sample.shape[0], 1, img_rows, img_cols)\n",
    "else:\n",
    "    x_sample = x_sample.reshape(x_sample.shape[0], img_rows, img_cols, 1)\n",
    "\n",
    "x_sample = x_sample.astype(\"float32\")\n",
    "x_sample /= 255\n",
    "\n",
    "prediction = model.predict(x_sample)"
   ]
  },
  {
   "cell_type": "code",
   "execution_count": null,
   "metadata": {
    "ExecuteTime": {
     "end_time": "2020-07-21T07:09:21.198012Z",
     "start_time": "2020-07-21T07:09:06.171176Z"
    }
   },
   "outputs": [],
   "source": [
    "import matplotlib.pyplot as plt\n",
    "import seaborn as sns\n",
    "from sklearn.metrics import confusion_matrix\n",
    "\n",
    "y_pred = np.argmax(prediction, axis=1)\n",
    "y_pred = y_pred.reshape(y_pred.shape[0], 1)\n",
    "\n",
    "conf = confusion_matrix(y_sample, y_pred)\n",
    "sns.heatmap(conf, annot=True, fmt=\"d\")\n",
    "plt.show()"
   ]
  }
 ],
 "metadata": {
  "kernelspec": {
   "display_name": "Python 3",
   "language": "python",
   "name": "python3"
  },
  "language_info": {
   "codemirror_mode": {
    "name": "ipython",
    "version": 3
   },
   "file_extension": ".py",
   "mimetype": "text/x-python",
   "name": "python",
   "nbconvert_exporter": "python",
   "pygments_lexer": "ipython3",
   "version": "3.7.10"
  },
  "toc": {
   "base_numbering": 1,
   "nav_menu": {},
   "number_sections": true,
   "sideBar": true,
   "skip_h1_title": true,
   "title_cell": "Table of Contents",
   "title_sidebar": "Contents",
   "toc_cell": false,
   "toc_position": {
    "height": "632px",
    "left": "132px",
    "top": "140px",
    "width": "288px"
   },
   "toc_section_display": true,
   "toc_window_display": false
  },
  "varInspector": {
   "cols": {
    "lenName": 16,
    "lenType": 16,
    "lenVar": 40
   },
   "kernels_config": {
    "python": {
     "delete_cmd_postfix": "",
     "delete_cmd_prefix": "del ",
     "library": "var_list.py",
     "varRefreshCmd": "print(var_dic_list())"
    },
    "r": {
     "delete_cmd_postfix": ") ",
     "delete_cmd_prefix": "rm(",
     "library": "var_list.r",
     "varRefreshCmd": "cat(var_dic_list()) "
    }
   },
   "types_to_exclude": [
    "module",
    "function",
    "builtin_function_or_method",
    "instance",
    "_Feature"
   ],
   "window_display": false
  }
 },
 "nbformat": 4,
 "nbformat_minor": 4
}